{
 "cells": [
  {
   "cell_type": "code",
   "execution_count": 1,
   "id": "4efcd1b0-6707-4661-826c-bb9c8ae5e9a0",
   "metadata": {},
   "outputs": [],
   "source": [
    "import pandas as pd\n",
    "import requests\n",
    "from requests.exceptions import RequestException\n",
    "import os"
   ]
  },
  {
   "cell_type": "code",
   "execution_count": 39,
   "id": "3d6efe44-4521-47ad-b5d9-41c0985c65dc",
   "metadata": {},
   "outputs": [],
   "source": [
    "# Load the CSV file\n",
    "input_file = 'glibrary23s.csv'  # Replace with your file name\n",
    "df = pd.read_csv(input_file)\n",
    "\n",
    "# Define a function to check if the link is working\n",
    "def check_link(url):\n",
    "    try:\n",
    "        response = requests.head(url, allow_redirects=True, timeout=5)\n",
    "        #print(f\"Response status: {response.status_code}\")\n",
    "        if response.status_code == 403:\n",
    "            return \"Undecidable\"\n",
    "        if response.status_code < 400:\n",
    "            return 'YES'\n",
    "        else:\n",
    "            return 'NO'\n",
    "    except RequestException:\n",
    "        return 'NO'"
   ]
  },
  {
   "cell_type": "code",
   "execution_count": 31,
   "id": "46830362-f083-4951-b4c3-7bc9b4b550ab",
   "metadata": {},
   "outputs": [
    {
     "name": "stdout",
     "output_type": "stream",
     "text": [
      "Response status: 404\n"
     ]
    },
    {
     "data": {
      "text/plain": [
       "'NO'"
      ]
     },
     "execution_count": 31,
     "metadata": {},
     "output_type": "execute_result"
    }
   ],
   "source": [
    "check_link(\"https://www.amnesty.at/umbraco/Surface/MaterialSurface/Download?fileId=10784\")"
   ]
  },
  {
   "cell_type": "code",
   "execution_count": 40,
   "id": "f809bc80-b708-47d9-b80b-2cedade19573",
   "metadata": {},
   "outputs": [],
   "source": [
    "# Create a new column 'working_link'\n",
    "df['working_link'] = df['Link'].apply(check_link)\n",
    "\n",
    "# Create a new column 'working_link' for the first 300 rows only\n",
    "#df.loc[:299, 'working_link'] = df['Link'][:300].apply(check_link)"
   ]
  },
  {
   "cell_type": "code",
   "execution_count": 41,
   "id": "d50d82d1-82de-494e-acc6-0a3447ee961e",
   "metadata": {},
   "outputs": [
    {
     "name": "stdout",
     "output_type": "stream",
     "text": [
      "Checked links and saved to glibrary23s_checked.csv\n"
     ]
    }
   ],
   "source": [
    "# Export the updated CSV file\n",
    "output_file = os.path.splitext(input_file)[0] + '_checked.csv'\n",
    "df.to_csv(output_file, index=False)\n",
    "\n",
    "print(f\"Checked links and saved to {output_file}\")"
   ]
  },
  {
   "cell_type": "code",
   "execution_count": 43,
   "id": "1af51210-2fd5-4c91-bc22-7aca167094ea",
   "metadata": {},
   "outputs": [
    {
     "ename": "ValueError",
     "evalue": "Must provide an even number of non-keyword arguments",
     "output_type": "error",
     "traceback": [
      "\u001b[1;31m---------------------------------------------------------------------------\u001b[0m",
      "\u001b[1;31mValueError\u001b[0m                                Traceback (most recent call last)",
      "Cell \u001b[1;32mIn[43], line 2\u001b[0m\n\u001b[0;32m      1\u001b[0m checked_df \u001b[38;5;241m=\u001b[39m pd\u001b[38;5;241m.\u001b[39mread_csv(output_file)\n\u001b[1;32m----> 2\u001b[0m \u001b[43mpd\u001b[49m\u001b[38;5;241;43m.\u001b[39;49m\u001b[43mset_option\u001b[49m\u001b[43m(\u001b[49m\u001b[38;5;124;43m'\u001b[39;49m\u001b[38;5;124;43mdisplay.max_rows\u001b[39;49m\u001b[38;5;124;43m'\u001b[39;49m\u001b[43m)\u001b[49m\n\u001b[0;32m      3\u001b[0m \u001b[38;5;66;03m# Display the DataFrame\u001b[39;00m\n\u001b[0;32m      4\u001b[0m \u001b[38;5;28mprint\u001b[39m(df)\n",
      "File \u001b[1;32m~\\Desktop\\Amnesty 2024 - py\\Lib\\site-packages\\pandas\\_config\\config.py:274\u001b[0m, in \u001b[0;36mCallableDynamicDoc.__call__\u001b[1;34m(self, *args, **kwds)\u001b[0m\n\u001b[0;32m    273\u001b[0m \u001b[38;5;28;01mdef\u001b[39;00m \u001b[38;5;21m__call__\u001b[39m(\u001b[38;5;28mself\u001b[39m, \u001b[38;5;241m*\u001b[39margs, \u001b[38;5;241m*\u001b[39m\u001b[38;5;241m*\u001b[39mkwds) \u001b[38;5;241m-\u001b[39m\u001b[38;5;241m>\u001b[39m T:\n\u001b[1;32m--> 274\u001b[0m     \u001b[38;5;28;01mreturn\u001b[39;00m \u001b[38;5;28;43mself\u001b[39;49m\u001b[38;5;241;43m.\u001b[39;49m\u001b[38;5;18;43m__func__\u001b[39;49m\u001b[43m(\u001b[49m\u001b[38;5;241;43m*\u001b[39;49m\u001b[43margs\u001b[49m\u001b[43m,\u001b[49m\u001b[43m \u001b[49m\u001b[38;5;241;43m*\u001b[39;49m\u001b[38;5;241;43m*\u001b[39;49m\u001b[43mkwds\u001b[49m\u001b[43m)\u001b[49m\n",
      "File \u001b[1;32m~\\Desktop\\Amnesty 2024 - py\\Lib\\site-packages\\pandas\\_config\\config.py:157\u001b[0m, in \u001b[0;36m_set_option\u001b[1;34m(*args, **kwargs)\u001b[0m\n\u001b[0;32m    155\u001b[0m nargs \u001b[38;5;241m=\u001b[39m \u001b[38;5;28mlen\u001b[39m(args)\n\u001b[0;32m    156\u001b[0m \u001b[38;5;28;01mif\u001b[39;00m \u001b[38;5;129;01mnot\u001b[39;00m nargs \u001b[38;5;129;01mor\u001b[39;00m nargs \u001b[38;5;241m%\u001b[39m \u001b[38;5;241m2\u001b[39m \u001b[38;5;241m!=\u001b[39m \u001b[38;5;241m0\u001b[39m:\n\u001b[1;32m--> 157\u001b[0m     \u001b[38;5;28;01mraise\u001b[39;00m \u001b[38;5;167;01mValueError\u001b[39;00m(\u001b[38;5;124m\"\u001b[39m\u001b[38;5;124mMust provide an even number of non-keyword arguments\u001b[39m\u001b[38;5;124m\"\u001b[39m)\n\u001b[0;32m    159\u001b[0m \u001b[38;5;66;03m# default to false\u001b[39;00m\n\u001b[0;32m    160\u001b[0m silent \u001b[38;5;241m=\u001b[39m kwargs\u001b[38;5;241m.\u001b[39mpop(\u001b[38;5;124m\"\u001b[39m\u001b[38;5;124msilent\u001b[39m\u001b[38;5;124m\"\u001b[39m, \u001b[38;5;28;01mFalse\u001b[39;00m)\n",
      "\u001b[1;31mValueError\u001b[0m: Must provide an even number of non-keyword arguments"
     ]
    }
   ],
   "source": [
    "checked_df = pd.read_csv(output_file)\n",
    "pd.set_option('display.max_rows', None)\n",
    "# Display the DataFrame\n",
    "print(df)"
   ]
  },
  {
   "cell_type": "code",
   "execution_count": 37,
   "id": "13de332e-9a8a-4a09-abef-e15a9fc5f82a",
   "metadata": {},
   "outputs": [
    {
     "name": "stdout",
     "output_type": "stream",
     "text": [
      "Number of working links (YES): 213\n",
      "Number of broken links (NO): 69\n"
     ]
    }
   ],
   "source": [
    "# Count the number of 'YES' and 'NO' rows\n",
    "yes_count = df['working_link'].value_counts().get('YES', 0)\n",
    "no_count = df['working_link'].value_counts().get('NO', 0)\n",
    "undecidable_count = df['working_link'].value_counts().get('Undecidable', 0)\n",
    "\n",
    "\n",
    "print(f\"Number of working links (YES): {yes_count}\")\n",
    "print(f\"Number of broken links (NO): {no_count}\")\n",
    "\n"
   ]
  },
  {
   "cell_type": "code",
   "execution_count": null,
   "id": "9139dea9-681d-4a57-98e8-f4aac3ac0b6a",
   "metadata": {},
   "outputs": [],
   "source": []
  }
 ],
 "metadata": {
  "kernelspec": {
   "display_name": "Python 3 (ipykernel)",
   "language": "python",
   "name": "python3"
  },
  "language_info": {
   "codemirror_mode": {
    "name": "ipython",
    "version": 3
   },
   "file_extension": ".py",
   "mimetype": "text/x-python",
   "name": "python",
   "nbconvert_exporter": "python",
   "pygments_lexer": "ipython3",
   "version": "3.13.0"
  }
 },
 "nbformat": 4,
 "nbformat_minor": 5
}
